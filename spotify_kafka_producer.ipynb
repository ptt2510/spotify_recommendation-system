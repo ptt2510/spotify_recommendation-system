{
 "cells": [
  {
   "cell_type": "code",
   "execution_count": 16,
   "id": "88a12d1b",
   "metadata": {},
   "outputs": [],
   "source": [
    "import pandas as pd\n",
    "from kafka import KafkaProducer\n",
    "from datetime import datetime\n",
    "import time\n",
    "import random\n",
    "import numpy as np\n",
    "from json import dumps"
   ]
  },
  {
   "cell_type": "code",
   "execution_count": 43,
   "id": "3ea52785",
   "metadata": {
    "scrolled": false
   },
   "outputs": [
    {
     "name": "stdout",
     "output_type": "stream",
     "text": [
      "Kafka Producer Application Started ... \n",
      "Kafka Producer Application Completed. \n"
     ]
    }
   ],
   "source": [
    "KAFKA_TOPIC_NAME_CONS = \"songTopic10\"\n",
    "KAFKA_BOOTSTRAP_SERVERS_CONS = 'localhost:9092'\n",
    "print(\"Kafka Producer Application Started ... \")\n",
    "kafka_producer_obj = KafkaProducer(bootstrap_servers=KAFKA_BOOTSTRAP_SERVERS_CONS,value_serializer=lambda x:dumps(x).encode('utf-8'))\n",
    "filepath = \"Downloads/tracks.csv\"\n",
    "# This is the csv which has Spotify data.\n",
    "songs_df = pd.read_csv(filepath)\n",
    "songs_df = songs_df[songs_df['release_date'] > '2020-01-01']\n",
    "songs_df = songs_df[songs_df['popularity'] > 50]\n",
    "songs_df['order_id'] = np.arange(len(songs_df))\n",
    "songs_df['artists'] = songs_df['artists'].str.replace('[^a-zA-Z]', '')\n",
    "songs_df['id_artists'] = songs_df['id_artists'].str.replace('[^a-zA-Z]', '')\n",
    "\n",
    "# Some pre-processing performed for clean data.\n",
    "    \n",
    "\n",
    "for index, message in songs_df.iterrows():\n",
    "    message_fields_value_list = []    \n",
    "    message_fields_value_list.append(message[\"order_id\"])\n",
    "    message_fields_value_list.append(message[\"id\"])\n",
    "    message_fields_value_list.append(message[\"name\"])\n",
    "    message_fields_value_list.append(message[\"popularity\"])\n",
    "    message_fields_value_list.append(message[\"duration_ms\"])\n",
    "    message_fields_value_list.append(message[\"explicit\"])\n",
    "    message_fields_value_list.append(message[\"artists\"])\n",
    "    message_fields_value_list.append(message[\"id_artists\"])\n",
    "    message_fields_value_list.append(message[\"release_date\"])\n",
    "    message_fields_value_list.append(message[\"danceability\"])\n",
    "    message_fields_value_list.append(message[\"energy\"])\n",
    "    message_fields_value_list.append(message[\"key\"])\n",
    "    message_fields_value_list.append(message[\"loudness\"])\n",
    "    message_fields_value_list.append(message[\"mode\"])\n",
    "    message_fields_value_list.append(message[\"speechiness\"])\n",
    "    message_fields_value_list.append(message[\"acousticness\"])\n",
    "    message_fields_value_list.append(message[\"instrumentalness\"])\n",
    "    message_fields_value_list.append(message[\"liveness\"])\n",
    "    message_fields_value_list.append(message[\"valence\"])\n",
    "    message_fields_value_list.append(message[\"tempo\"])\n",
    "    message_fields_value_list.append(message[\"time_signature\"])\n",
    "    message = '~'.join(str(v) for v in message_fields_value_list)\n",
    "    kafka_producer_obj.send(KAFKA_TOPIC_NAME_CONS, message)\n",
    "    \n",
    "print(\"Kafka Producer Application Completed. \")"
   ]
  },
  {
   "cell_type": "code",
   "execution_count": null,
   "id": "afd6a8c0",
   "metadata": {},
   "outputs": [],
   "source": []
  }
 ],
 "metadata": {
  "kernelspec": {
   "display_name": "Python 3 (ipykernel)",
   "language": "python",
   "name": "python3"
  },
  "language_info": {
   "codemirror_mode": {
    "name": "ipython",
    "version": 3
   },
   "file_extension": ".py",
   "mimetype": "text/x-python",
   "name": "python",
   "nbconvert_exporter": "python",
   "pygments_lexer": "ipython3",
   "version": "3.11.5"
  }
 },
 "nbformat": 4,
 "nbformat_minor": 5
}
